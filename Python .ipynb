{
 "cells": [
  {
   "cell_type": "markdown",
   "id": "bef2a776",
   "metadata": {},
   "source": [
    "# Collatz Conjecture\n",
    "Start with a number n > 1. Find the number of steps it takes to reach one using the following process: If n is even, divide it by 2. If n is odd, multiply it by 3 and add 1.\n",
    "***"
   ]
  },
  {
   "cell_type": "code",
   "execution_count": 1,
   "id": "b9c85a34",
   "metadata": {},
   "outputs": [
    {
     "name": "stdout",
     "output_type": "stream",
     "text": [
      "Enter the number : 54\n",
      "Number of Iterations : 112\n"
     ]
    }
   ],
   "source": [
    "n = int(input(\"Enter the number : \"))\n",
    "s = 0\n",
    "while n!=1:\n",
    "    if n%2==0:\n",
    "        n = n/2\n",
    "    else:\n",
    "        n= 3*n + 1\n",
    "    s+=1\n",
    "print(\"Number of Iterations : {}\".format(s))"
   ]
  },
  {
   "cell_type": "markdown",
   "id": "8f491109",
   "metadata": {},
   "source": [
    "##### \n",
    "# Closest pair problem\n",
    "The closest pair of points problem or closest pair problem is a problem of computational geometry: given n points in metric space, find a pair of points with the smallest distance between them.\n",
    "***"
   ]
  },
  {
   "cell_type": "code",
   "execution_count": 2,
   "id": "498139a5",
   "metadata": {},
   "outputs": [
    {
     "name": "stdout",
     "output_type": "stream",
     "text": [
      "Want to enter co-ordinates ? : y\n",
      "Enter x coordinate : 1\n",
      "Enter y coordinate : 2\n",
      "Want to enter more co-ordinates ? : y\n",
      "Enter x coordinate : 8\n",
      "Enter y coordinate : 76\n",
      "Want to enter more co-ordinates ? : y\n",
      "Enter x coordinate : 9.08\n",
      "Enter y coordinate : 76\n",
      "Want to enter more co-ordinates ? : j\n",
      "\n",
      "\n",
      "List of pairs : [(1.0, 2.0), (8.0, 76.0), (9.08, 76.0)]\n",
      "\n",
      "Closest Pair is/are : (1.0, 2.0) (8.0, 76.0) with distance in units : 9.219544457292887\n"
     ]
    }
   ],
   "source": [
    "n = input(\"Want to enter co-ordinates ? : \")\n",
    "li,li1 = [],[]\n",
    "while n.upper() == 'Y':\n",
    "    x = float(input(\"Enter x coordinate : \"))\n",
    "    y = float(input(\"Enter y coordinate : \"))\n",
    "    li.append((x,y))\n",
    "    n = input(\"Want to enter more co-ordinates ? : \")\n",
    "for i in li:\n",
    "    for j in li:\n",
    "        if i!=j:\n",
    "             li1.append((i,j,((j[0]-i[0])**2 + (j[0]-i[1])**2)**0.5))\n",
    "li1.sort(key = lambda x:x[2])\n",
    "print(\"\\n\\nList of pairs :\",li)\n",
    "print(\"\\nClosest Pair is/are :\",li1[0][0],li1[0][1],'with distance in units :',li1[0][2])"
   ]
  },
  {
   "cell_type": "markdown",
   "id": "f8c8aaff",
   "metadata": {},
   "source": [
    "##### \n",
    "# Coin Flip Simulation\n",
    "Write some code that simulates flipping a single coin however many times the user decides. The code should record the outcomes and count the number of tails and heads.\n",
    "***"
   ]
  },
  {
   "cell_type": "code",
   "execution_count": 3,
   "id": "5b628da4",
   "metadata": {},
   "outputs": [
    {
     "name": "stdout",
     "output_type": "stream",
     "text": [
      "Want to toss a coin : y\n",
      "The outcome is :  tail\n",
      "Want to toss a coin again : y\n",
      "The outcome is :  head\n",
      "Want to toss a coin again : y\n",
      "The outcome is :  tail\n",
      "Want to toss a coin again : y\n",
      "The outcome is :  head\n",
      "Want to toss a coin again : y\n",
      "The outcome is :  head\n",
      "Want to toss a coin again : j\n",
      "\n",
      "\n",
      "Number of heads : 3\n",
      "Number of tails : 2\n"
     ]
    }
   ],
   "source": [
    "import random as r\n",
    "l,l1 = ['head','tail'],[]\n",
    "x = input(\"Want to toss a coin : \")\n",
    "while x.upper() == 'Y':\n",
    "    y = r.choice(l)\n",
    "    l1.append(y)\n",
    "    print(\"The outcome is : \",y)\n",
    "    x = input(\"Want to toss a coin again : \")\n",
    "print(\"\\n\\nNumber of heads :\",l1.count(\"head\"))\n",
    "print(\"Number of tails :\",l1.count(\"tail\"))"
   ]
  },
  {
   "cell_type": "markdown",
   "id": "53e6a009",
   "metadata": {},
   "source": [
    "##### \n",
    "# TIC TAC TOE\n",
    "***"
   ]
  },
  {
   "cell_type": "code",
   "execution_count": 5,
   "id": "589208b8",
   "metadata": {},
   "outputs": [
    {
     "name": "stdout",
     "output_type": "stream",
     "text": [
      "\n",
      "=============\n",
      "| 0 | 1 | 2 |\n",
      "=============\n",
      "| 3 | 4 | 5 |\n",
      "=============\n",
      "| 6 | 7 | 8 |\n",
      "=============\n",
      "\n",
      "Player 1: 1\n",
      "\n",
      "=============\n",
      "| 0 | X | 2 |\n",
      "=============\n",
      "| 3 | 4 | 5 |\n",
      "=============\n",
      "| 6 | 7 | 8 |\n",
      "=============\n",
      "\n",
      "Player 2: 2\n",
      "\n",
      "=============\n",
      "| 0 | X | O |\n",
      "=============\n",
      "| 3 | 4 | 5 |\n",
      "=============\n",
      "| 6 | 7 | 8 |\n",
      "=============\n",
      "\n",
      "Player 1: 3\n",
      "\n",
      "=============\n",
      "| 0 | X | O |\n",
      "=============\n",
      "| X | 4 | 5 |\n",
      "=============\n",
      "| 6 | 7 | 8 |\n",
      "=============\n",
      "\n",
      "Player 2: 4\n",
      "\n",
      "=============\n",
      "| 0 | X | O |\n",
      "=============\n",
      "| X | O | 5 |\n",
      "=============\n",
      "| 6 | 7 | 8 |\n",
      "=============\n",
      "\n",
      "Player 1: 5\n",
      "\n",
      "=============\n",
      "| 0 | X | O |\n",
      "=============\n",
      "| X | O | X |\n",
      "=============\n",
      "| 6 | 7 | 8 |\n",
      "=============\n",
      "\n",
      "Player 2: 6\n",
      "\n",
      "=============\n",
      "| 0 | X | O |\n",
      "=============\n",
      "| X | O | X |\n",
      "=============\n",
      "| O | 7 | 8 |\n",
      "=============\n",
      "\n",
      "Player 2 wins!\n"
     ]
    }
   ],
   "source": [
    "c = []\n",
    "\n",
    "for i in range(9):\n",
    "    c.append(str(i))\n",
    "\n",
    "firstPlayer = True\n",
    "winner = False\n",
    "j = 0\n",
    "\n",
    "def printBoard():\n",
    "    print('\\n=============')\n",
    "    print('| ' + c[0] + ' | ' + c[1] + ' | ' + c[2] + ' |')\n",
    "    print('=============')\n",
    "    print('| ' + c[3] + ' | ' + c[4] + ' | ' + c[5] + ' |')\n",
    "    print('=============')\n",
    "    print('| ' + c[6] + ' | ' + c[7] + ' | ' + c[8] + ' |')\n",
    "    print('=============\\n')\n",
    "while not winner and j < 9:\n",
    "    printBoard()\n",
    "    j += 1\n",
    "    if firstPlayer == True:\n",
    "        print('Player 1: ', end = '')\n",
    "    else:\n",
    "        print('Player 2: ', end = '')\n",
    "    try:\n",
    "        playerInput = int(input())\n",
    "    except:\n",
    "        print('Please enter a valid number from the board')\n",
    "        continue\n",
    "\n",
    "    if c[playerInput] == 'X' or c[playerInput] == 'O':\n",
    "        print('Illegal move, try again!')\n",
    "        continue\n",
    "\n",
    "    if firstPlayer:\n",
    "        c[playerInput] = 'X'\n",
    "    else:\n",
    "        c[playerInput] = 'O'\n",
    "\n",
    "    firstPlayer = not firstPlayer\n",
    "\n",
    "    for i in range(0, 3):\n",
    "        if (c[i * 3] == c[((i * 3) + 1)] and c[i * 3] == c[((i * 3) + 2)]):\n",
    "            winner = True\n",
    "            printBoard()\n",
    "\n",
    "        if(c[i] == c[i + 3] and c[i + 3] == c[i + 6]):\n",
    "            winner = True\n",
    "            printBoard()\n",
    "\n",
    "    if((c[0] == c[4] and c[4] == c[8]) or\n",
    "      (c[2] == c[4] and c[4] == c[6])):\n",
    "        winner = True\n",
    "        printBoard()\n",
    "\n",
    "if winner:\n",
    "    print('Player ' + str(int(firstPlayer + 1)) + ' wins!')\n",
    "else:\n",
    "    print('Game drawn')"
   ]
  }
 ],
 "metadata": {
  "kernelspec": {
   "display_name": "Python 3 (ipykernel)",
   "language": "python",
   "name": "python3"
  },
  "language_info": {
   "codemirror_mode": {
    "name": "ipython",
    "version": 3
   },
   "file_extension": ".py",
   "mimetype": "text/x-python",
   "name": "python",
   "nbconvert_exporter": "python",
   "pygments_lexer": "ipython3",
   "version": "3.9.13"
  }
 },
 "nbformat": 4,
 "nbformat_minor": 5
}
