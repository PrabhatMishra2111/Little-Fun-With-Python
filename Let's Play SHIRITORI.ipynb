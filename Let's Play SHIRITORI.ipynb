{
 "cells": [
  {
   "cell_type": "markdown",
   "id": "be44953c",
   "metadata": {},
   "source": [
    "![image info](https://wanderingtanuki.com/wp-content/uploads/2021/12/with-watermark-1-1024x576.png)"
   ]
  },
  {
   "cell_type": "code",
   "execution_count": 6,
   "id": "d9762021",
   "metadata": {},
   "outputs": [
    {
     "name": "stdout",
     "output_type": "stream",
     "text": [
      "\t\t\tLET'S SEE HOW MUCH YOU CAN GET\n",
      "\t\t\t------------------------------\n",
      "\n",
      "\n",
      "Enter a word : Prabhat\n",
      "Enter a word : There\n",
      "Enter a word : ENDS\n",
      "Enter a word : d\n",
      "Valid Words :  Prabhat,There,Ends\n",
      "\n",
      "You managed to score : 3\n"
     ]
    }
   ],
   "source": [
    "print(\"\\t\\t\\tLET'S SEE HOW MUCH YOU CAN GET\\n\\t\\t\\t------------------------------\\n\\n\")\n",
    "a = input(\"Enter a word : \")\n",
    "b = input(\"Enter a word : \")\n",
    "li = [a.upper()]\n",
    "while a[-1].upper() == b[0].upper() and b.upper() not in li:\n",
    "    a = b\n",
    "    b = input(\"Enter a word : \")\n",
    "    li.append(a.upper())\n",
    "li = [i.title() for i in li]\n",
    "print(\"Valid Words : \",','.join(li))\n",
    "print(\"\\nYou managed to score : {}\".format(len(li)))"
   ]
  }
 ],
 "metadata": {
  "kernelspec": {
   "display_name": "Python 3 (ipykernel)",
   "language": "python",
   "name": "python3"
  },
  "language_info": {
   "codemirror_mode": {
    "name": "ipython",
    "version": 3
   },
   "file_extension": ".py",
   "mimetype": "text/x-python",
   "name": "python",
   "nbconvert_exporter": "python",
   "pygments_lexer": "ipython3",
   "version": "3.9.13"
  }
 },
 "nbformat": 4,
 "nbformat_minor": 5
}
